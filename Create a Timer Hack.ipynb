{
 "cells": [
  {
   "cell_type": "markdown",
   "metadata": {
    "id": "GdsWXtHY-PKy"
   },
   "source": [
    "Step 1: Import the time module.\n",
    "\n",
    "Step 2: Then ask the user to input the length of the countdown in seconds.\n",
    "\n",
    "Step 3: This value is sent as a parameter ‘t’ to the user-defined function countdown(). Any variable read using the input function is a string. So, convert this parameter to ‘int’ as it is of string type.\n",
    "\n",
    "Step 4: In this function, a while loop runs until time becomes 0.\n",
    "\n",
    "Step 5: Use divmod() to calculate the number of minutes and seconds. You can read more about it here.\n",
    "\n",
    "Step 6: Now print the minutes and seconds on the screen using the variable timeformat.\n",
    "\n",
    "Step 7: Using end = ‘\\r’ we force the cursor to go back to the start of the screen (carriage return) so that the next line printed will overwrite the previous one.\n",
    "\n",
    "Step 8: The time.sleep() is used to make the code wait for one sec.\n",
    "\n",
    "Step 9: Now decrement time so that the while loop can converge.\n",
    "\n",
    "Step 10: After the completion of the loop, we will print “Fire in the hole” to signify the end of the countdown."
   ]
  },
  {
   "cell_type": "code",
   "execution_count": 1,
   "metadata": {
    "colab": {
     "base_uri": "https://localhost:8080/"
    },
    "id": "W-RzWmVO-ket",
    "outputId": "7048b223-e9f8-44b5-9340-f3d3b9ac822d"
   },
   "outputs": [
    {
     "name": "stdout",
     "output_type": "stream",
     "text": [
      "Enter the time in seconds: 10\n",
      "Fire in the hole!!\n"
     ]
    }
   ],
   "source": [
    "# import the time module\n",
    "import time\n",
    "\n",
    "# define the countdown func.\n",
    "def countdown(t):\n",
    "\t\n",
    "\twhile t:\n",
    "\t\tmins, secs = divmod(t, 60)\n",
    "\t\ttimer = '{:02d}:{:02d}'.format(mins, secs)\n",
    "\t\tprint(timer, end=\"\\r\")\n",
    "\t\ttime.sleep(1)\n",
    "\t\tt -= 1\n",
    "\t\n",
    "\tprint('Fire in the hole!!')\n",
    "\n",
    "\n",
    "# input time in seconds\n",
    "t = input(\"Enter the time in seconds: \")\n",
    "\n",
    "# function call\n",
    "countdown(int(t))"
   ]
  }
 ],
 "metadata": {
  "colab": {
   "name": "Create a timer hack.ipynb",
   "provenance": []
  },
  "kernelspec": {
   "display_name": "Python 3",
   "language": "python",
   "name": "python3"
  },
  "language_info": {
   "codemirror_mode": {
    "name": "ipython",
    "version": 3
   },
   "file_extension": ".py",
   "mimetype": "text/x-python",
   "name": "python",
   "nbconvert_exporter": "python",
   "pygments_lexer": "ipython3",
   "version": "3.8.8"
  }
 },
 "nbformat": 4,
 "nbformat_minor": 1
}
